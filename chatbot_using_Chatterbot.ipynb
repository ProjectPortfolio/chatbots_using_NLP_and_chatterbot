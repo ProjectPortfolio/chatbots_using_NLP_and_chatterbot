{
  "nbformat": 4,
  "nbformat_minor": 0,
  "metadata": {
    "colab": {
      "name": "chatbot_using_Chatterbot.ipynb",
      "provenance": []
    },
    "kernelspec": {
      "name": "python3",
      "display_name": "Python 3"
    }
  },
  "cells": [
    {
      "cell_type": "code",
      "metadata": {
        "id": "zRGtJvNSOiR5"
      },
      "source": [
        "from chatterbot import ChatBot\n",
        "from chatterbot.trainers import ListTrainer\n"
      ],
      "execution_count": 5,
      "outputs": []
    },
    {
      "cell_type": "code",
      "metadata": {
        "id": "A1SfUoZXOr44"
      },
      "source": [
        "chatbot = ChatBot('FreeBirdsBot')\n",
        "\n",
        "trainer = ListTrainer(chatbot)"
      ],
      "execution_count": 6,
      "outputs": []
    },
    {
      "cell_type": "code",
      "metadata": {
        "colab": {
          "base_uri": "https://localhost:8080/"
        },
        "id": "qxDds45dOvAB",
        "outputId": "ac2738a3-11b4-4be7-b8fe-a0b5a68da055"
      },
      "source": [
        "trainer.train(['Hi','Hello','How are you?','I am fine and You?','Greate','What are you Doing?','nothing just roaming around.'])\n",
        "\n",
        "while True:\n",
        "\tinput_data = input(\"You- \")\n",
        "\tresponse = chatbot.get_response(input_data)\n",
        "\tprint(\"FreeBirdsBot- \",response)\n"
      ],
      "execution_count": null,
      "outputs": [
        {
          "output_type": "stream",
          "text": [
            "List Trainer: [####################] 100%\n",
            "You- hi\n",
            "FreeBirdsBot-  Hello\n",
            "You- How are you\n",
            "FreeBirdsBot-  I am fine and You?\n",
            "You- Greate\n",
            "FreeBirdsBot-  What are you Doing?\n",
            "You- nothing\n",
            "FreeBirdsBot-  What are you Doing?\n",
            "You- greate\n",
            "FreeBirdsBot-  What are you Doing?\n"
          ],
          "name": "stdout"
        }
      ]
    },
    {
      "cell_type": "code",
      "metadata": {
        "id": "X34X-nKGPGd9"
      },
      "source": [
        ""
      ],
      "execution_count": null,
      "outputs": []
    }
  ]
}